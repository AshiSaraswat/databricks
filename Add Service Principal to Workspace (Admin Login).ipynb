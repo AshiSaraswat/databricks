{
  "cells": [
    {
      "metadata": {
        "trusted": true
      },
      "cell_type": "code",
      "source": "import json\nimport requests\n\n#Setup the endpoint\nendpoint = 'https://login.microsoftonline.com/[TENANT_ID]/oauth2/token'\nheaders = {'Content-Type': 'application/x-www-form-urlencoded'}\npayload = 'grant_type=client_credentials&client_id=[CLIENT_ID]&client_secret=[CLIENT_SECRET]&resource=2ff814a6-3304-4ab8-85cb-cd0e6f879c1d'\nr = requests.post(endpoint, headers=headers, data=payload)\nresponse = r.json()\n#print(response)\nbearertoken = response[\"access_token\"]\nprint(bearertoken)",
      "execution_count": null,
      "outputs": []
    },
    {
      "metadata": {
        "trusted": true
      },
      "cell_type": "code",
      "source": "import json\nimport requests\n\n#Setup the endpoint\nendpoint = 'https://login.microsoftonline.com/[TENANT_ID]/oauth2/token'\nheaders = {'Content-Type': 'application/x-www-form-urlencoded'}\npayload = 'grant_type=client_credentials&client_id=[CLIENT_ID]&client_secret=[CLIENT_SECRET]&resource=https://management.core.windows.net/'\nr = requests.post(endpoint, headers=headers, data=payload)\nresponse = r.json()\n#print(response)\nmanagement_bearertoken = response[\"access_token\"]\nprint(management_bearertoken)",
      "execution_count": null,
      "outputs": []
    },
    {
      "metadata": {
        "trusted": true
      },
      "cell_type": "code",
      "source": "endpoint = 'https://adb-[WORKSPACE_ORG_ID].12.azuredatabricks.net/api/2.0/clusters/list'\nheaders = {'X-Databricks-Azure-Workspace-Resource-Id':'/subscriptions/[SUBSCRIPTION_ID]/resourceGroups/[RESOURCE_GROUP]/providers/Microsoft.Databricks/workspaces/[DATABRICKS_WORKSPACE_NAME]','X-Databricks-Azure-SP-Management-Token': management_bearertoken, 'Authorization': 'Bearer %s' % bearertoken}\nr = requests.get(endpoint, headers=headers)\nprint(r.text)",
      "execution_count": null,
      "outputs": []
    }
  ],
  "metadata": {
    "kernelspec": {
      "name": "python36",
      "display_name": "Python 3.6",
      "language": "python"
    },
    "language_info": {
      "mimetype": "text/x-python",
      "nbconvert_exporter": "python",
      "name": "python",
      "pygments_lexer": "ipython3",
      "version": "3.6.6",
      "file_extension": ".py",
      "codemirror_mode": {
        "version": 3,
        "name": "ipython"
      }
    }
  },
  "nbformat": 4,
  "nbformat_minor": 2
}