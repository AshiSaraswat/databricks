{
  "cells": [
    {
      "metadata": {},
      "cell_type": "markdown",
      "source": "Configure request variables"
    },
    {
      "metadata": {
        "trusted": true
      },
      "cell_type": "code",
      "source": "# Tenant, subscription and resource group settings\nvTenantID = ''\nvSubscriptionID = ''\nvResourceGroup = ''\n\n# Databricks workspace name and URL including https://\nvWorkspaceName = ''\nvWorkspaceURL = ''\n\n# Service Principal client ID and secret\nvClientID = ''\nvClientSecret = ''",
      "execution_count": null,
      "outputs": []
    },
    {
      "metadata": {},
      "cell_type": "markdown",
      "source": "Get an authorisation token"
    },
    {
      "metadata": {
        "trusted": true
      },
      "cell_type": "code",
      "source": "import json\nimport requests\n\n#Setup the endpoint\nendpoint = 'https://login.microsoftonline.com/' + vTenantID + '/oauth2/token'\nheaders = {'Content-Type': 'application/x-www-form-urlencoded'}\npayload = 'grant_type=client_credentials&client_id=' + vClientID + '&client_secret=' + vClientSecret + '&resource=2ff814a6-3304-4ab8-85cb-cd0e6f879c1d'\nr = requests.post(endpoint, headers=headers, data=payload)\nresponse = r.json()\n#print(response)\nbearertoken = response[\"access_token\"]\nprint(bearertoken)",
      "execution_count": null,
      "outputs": []
    },
    {
      "metadata": {},
      "cell_type": "markdown",
      "source": "Get a management token"
    },
    {
      "metadata": {
        "trusted": true
      },
      "cell_type": "code",
      "source": "import json\nimport requests\n\n#Setup the endpoint\nendpoint = 'https://login.microsoftonline.com/' + vTenantID + '/oauth2/token'\nheaders = {'Content-Type': 'application/x-www-form-urlencoded'}\npayload = 'grant_type=client_credentials&client_id=' + vClientID + '&client_secret=' + vClientSecret + '&resource=https://management.core.windows.net/'\nr = requests.post(endpoint, headers=headers, data=payload)\nresponse = r.json()\n#print(response)\nmanagement_bearertoken = response[\"access_token\"]\nprint(management_bearertoken)",
      "execution_count": null,
      "outputs": []
    },
    {
      "metadata": {},
      "cell_type": "markdown",
      "source": "Make a single call to the Databricks API using admin login"
    },
    {
      "metadata": {
        "trusted": true
      },
      "cell_type": "code",
      "source": "endpoint = vWorkspaceURL + '/api/2.0/groups/list-members'\npayload={\n  \"group_name\": \"admins\"\n}\nheaders = {'X-Databricks-Azure-Workspace-Resource-Id':'/subscriptions/'+ vSubscriptionID + '/resourceGroups/' + vResourceGroup + '/providers/Microsoft.Databricks/workspaces/'+ vWorkspaceName,'X-Databricks-Azure-SP-Management-Token': management_bearertoken, 'Authorization': 'Bearer %s' % bearertoken}\nr = requests.get(endpoint, headers=headers,data=json.dumps(payload))\nprint(r.text)",
      "execution_count": null,
      "outputs": []
    }
  ],
  "metadata": {
    "kernelspec": {
      "name": "python36",
      "display_name": "Python 3.6",
      "language": "python"
    },
    "language_info": {
      "mimetype": "text/x-python",
      "nbconvert_exporter": "python",
      "name": "python",
      "pygments_lexer": "ipython3",
      "version": "3.6.6",
      "file_extension": ".py",
      "codemirror_mode": {
        "version": 3,
        "name": "ipython"
      }
    }
  },
  "nbformat": 4,
  "nbformat_minor": 2
}