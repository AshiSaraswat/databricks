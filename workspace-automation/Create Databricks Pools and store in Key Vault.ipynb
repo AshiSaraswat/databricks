{
  "cells": [
    {
      "metadata": {
        "trusted": true
      },
      "cell_type": "code",
      "source": "# Obtain an AAD token with the correct resource ID\nimport json\nimport requests\n\n#Setup the endpoint\nendpoint = 'https://login.microsoftonline.com/[TENANT_ID]/oauth2/token'\nheaders = {'Content-Type': 'application/x-www-form-urlencoded'}\npayload = 'grant_type=client_credentials&client_id=[SERVICE_PRINCIPAL_CLIENT_ID]&client_secret=[SERVICE_PRINCIPAL_SECRET]&resource=2ff814a6-3304-4ab8-85cb-cd0e6f879c1d'\nr = requests.post(endpoint, headers=headers, data=payload)\nresponse = r.json()\n#print(response)\nbearertoken = response[\"access_token\"]\nprint(bearertoken)",
      "execution_count": null,
      "outputs": []
    },
    {
      "metadata": {
        "trusted": true
      },
      "cell_type": "code",
      "source": "endpoint = 'https://[DATABRICKS_WORKSPACE_URL]/api/2.0/instance-pools/create'\npayload={\n  \"instance_pool_name\": \"[POOL_NAME]\",\n  \"node_type_id\": \"Standard_D3_v2\",\n  \"min_idle_instances\": 0, \"max_capacity\":2\n}\nheaders = {'X-Databricks-Org-Id':'[DATABRICKS_ORG_ID]','Authorization': 'Bearer %s' % bearertoken}\nr = requests.post(endpoint, headers=headers, data=json.dumps(payload))\nresponse = r.json()\nprint(response)",
      "execution_count": 4,
      "outputs": [
        {
          "output_type": "stream",
          "text": "{'instance_pool_id': '0521-145002-meet10-pool-EP6iFpfl'}\n",
          "name": "stdout"
        }
      ]
    },
    {
      "metadata": {
        "trusted": true
      },
      "cell_type": "code",
      "source": "instance_pool_id = response['instance_pool_id']\nprint(instance_pool_id)",
      "execution_count": 7,
      "outputs": [
        {
          "output_type": "stream",
          "text": "0521-145002-meet10-pool-EP6iFpfl\n",
          "name": "stdout"
        }
      ]
    },
    {
      "metadata": {
        "trusted": true
      },
      "cell_type": "code",
      "source": "pool_id=response['instance_pool_id']\nendpoint = 'https://adb-3919543476320272.12.azuredatabricks.net/api/2.0/instance-pools/delete'\npayload={\n  \"instance_pool_id\": pool_id\n}\nr = requests.post(endpoint, headers=headers, data=json.dumps(payload))\nprint(r.status_code)",
      "execution_count": 59,
      "outputs": [
        {
          "output_type": "stream",
          "text": "200\n",
          "name": "stdout"
        }
      ]
    },
    {
      "metadata": {
        "trusted": true
      },
      "cell_type": "code",
      "source": "#get a auth token for keyvault\n#Setup the endpoint\nendpoint = 'https://login.microsoftonline.com/244ecd6b-204f-4a0e-b76f-eb3bc132009e/oauth2/token'\nheaders = {'Content-Type': 'application/x-www-form-urlencoded'}\npayload = 'grant_type=client_credentials&client_id=3730f98f-4ff3-4cb0-ad4e-270032067016&client_secret=~iauAuCTblnO6M_O-rG6rcvm4.H0nPFV~H&resource=https%3A%2F%2Fvault.azure.net'\nr = requests.post(endpoint, headers=headers, data=payload)\nresponse = r.json()\nbearertoken = response[\"access_token\"]\nprint(bearertoken)",
      "execution_count": 16,
      "outputs": [
        {
          "output_type": "stream",
          "text": "eyJ0eXAiOiJKV1QiLCJhbGciOiJSUzI1NiIsIng1dCI6IkN0VHVoTUptRDVNN0RMZHpEMnYyeDNRS1NSWSIsImtpZCI6IkN0VHVoTUptRDVNN0RMZHpEMnYyeDNRS1NSWSJ9.eyJhdWQiOiJodHRwczovL3ZhdWx0LmF6dXJlLm5ldCIsImlzcyI6Imh0dHBzOi8vc3RzLndpbmRvd3MubmV0LzI0NGVjZDZiLTIwNGYtNGEwZS1iNzZmLWViM2JjMTMyMDA5ZS8iLCJpYXQiOjE1OTAwNzI3OTcsIm5iZiI6MTU5MDA3Mjc5NywiZXhwIjoxNTkwMDc2Njk3LCJhaW8iOiI0MmRnWURqMCtmSXQxbDJQWjJ0OWVxU3k5T1pXUndBPSIsImFwcGlkIjoiMzczMGY5OGYtNGZmMy00Y2IwLWFkNGUtMjcwMDMyMDY3MDE2IiwiYXBwaWRhY3IiOiIxIiwiaWRwIjoiaHR0cHM6Ly9zdHMud2luZG93cy5uZXQvMjQ0ZWNkNmItMjA0Zi00YTBlLWI3NmYtZWIzYmMxMzIwMDllLyIsIm9pZCI6ImE5YjM2YzQwLTcxMTEtNGIxMC05NGE5LTBjZWJmNmJjN2I2OSIsInN1YiI6ImE5YjM2YzQwLTcxMTEtNGIxMC05NGE5LTBjZWJmNmJjN2I2OSIsInRpZCI6IjI0NGVjZDZiLTIwNGYtNGEwZS1iNzZmLWViM2JjMTMyMDA5ZSIsInV0aSI6IlhDQ2NoRXIwLTAyY3NFWXUtSU92QUEiLCJ2ZXIiOiIxLjAifQ.tVy0HVeDXKSyFGp5VLu1jsPzTFOyWZbx7u14Zbg85uxToqerUaByMpUlNgsvvR3nO85S_0oKHyFvUOzntWCmix7Lf89RkRvURX533rpO2mcK-Bh1LzMo36gFBaOpDH3SELM7lKv1c1ZqR-iAgeS3LW2vw1-TznuTWqnEKMFkP27Iz1SOy-WSw02cpa9D-EITIZdUClUO1xrXM78uBqJGUu3po29gLYKTRDJqCtUE867mc2Bu_FtOOaHBIeRr34y6qbDzs1v9ZEqOCSS3JxiyaRMTiSIy2lwkMJSdvmY8uD2EcsHZhI29S2zr_aZgbnfS3Q6QvEQg_8xJJuRQCsfKOg\n",
          "name": "stdout"
        }
      ]
    },
    {
      "metadata": {
        "trusted": true
      },
      "cell_type": "code",
      "source": "endpoint = 'https://coocekeyvault.vault.azure.net/secrets/my-adb-pool?api-version=7.0'\npayload={\n\"value\": instance_pool_id\n}\nheaders = {'Content-Type': 'application/json','Authorization': 'Bearer %s' % bearertoken}\nr = requests.put(endpoint, headers=headers,data=json.dumps(payload))\nprint(r.text)",
      "execution_count": 20,
      "outputs": [
        {
          "output_type": "stream",
          "text": "{\"value\":\"0521-145002-meet10-pool-EP6iFpfl\",\"id\":\"https://coocekeyvault.vault.azure.net/secrets/my-adb-pool/a50b36ec13e2489c8807ea55d4a57a7a\",\"attributes\":{\"enabled\":true,\"created\":1590073674,\"updated\":1590073674,\"recoveryLevel\":\"Purgeable\"}}\n",
          "name": "stdout"
        }
      ]
    },
    {
      "metadata": {},
      "cell_type": "markdown",
      "source": "This section creates a cluster and submits a job"
    },
    {
      "metadata": {
        "trusted": true
      },
      "cell_type": "code",
      "source": "endpoint = 'https://adb-3919543476320272.12.azuredatabricks.net/api/2.0/clusters/creae'\nheaders = {'X-Databricks-Org-Id':'3919543476320272','Authorization': 'Bearer %s' % bearertoken}\nr = requests.get(endpoint, headers=headers)\nprint(r.text)",
      "execution_count": null,
      "outputs": []
    }
  ],
  "metadata": {
    "kernelspec": {
      "name": "python36",
      "display_name": "Python 3.6",
      "language": "python"
    },
    "language_info": {
      "mimetype": "text/x-python",
      "nbconvert_exporter": "python",
      "name": "python",
      "pygments_lexer": "ipython3",
      "version": "3.6.6",
      "file_extension": ".py",
      "codemirror_mode": {
        "version": 3,
        "name": "ipython"
      }
    }
  },
  "nbformat": 4,
  "nbformat_minor": 2
}